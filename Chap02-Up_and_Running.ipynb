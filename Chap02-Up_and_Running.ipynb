{
 "cells": [
  {
   "cell_type": "markdown",
   "metadata": {},
   "source": [
    "# Chap02 - 텐서플로 설치에서 실행까지"
   ]
  },
  {
   "cell_type": "markdown",
   "metadata": {},
   "source": [
    " "
   ]
  },
  {
   "cell_type": "markdown",
   "metadata": {},
   "source": [
    "## 2.1 텐서플로 설치\n",
    "\n",
    "```bash\n",
    "# TensorFlow CPU \n",
    "$ pip install tensorflow\n",
    "\n",
    "# TensorFlow GPU\n",
    "$ pip install tensorflow-gpu\n",
    "```"
   ]
  },
  {
   "cell_type": "markdown",
   "metadata": {},
   "source": [
    " "
   ]
  },
  {
   "cell_type": "markdown",
   "metadata": {},
   "source": [
    "## 2.2 Hello World\n",
    "\n",
    "TensorFlow의 첫 번째 예제인 `Hello`와 `World!`라는 단어를 결합해 `Hello World!`라는 문구를 출력하는 프로그램이다. "
   ]
  },
  {
   "cell_type": "code",
   "execution_count": 1,
   "metadata": {},
   "outputs": [
    {
     "name": "stderr",
     "output_type": "stream",
     "text": [
      "C:\\Users\\donaldaq\\Anaconda3\\envs\\tensorflow\\lib\\site-packages\\h5py\\__init__.py:36: FutureWarning: Conversion of the second argument of issubdtype from `float` to `np.floating` is deprecated. In future, it will be treated as `np.float64 == np.dtype(float).type`.\n",
      "  from ._conv import register_converters as _register_converters\n"
     ]
    },
    {
     "name": "stdout",
     "output_type": "stream",
     "text": [
      "1.10.0\n"
     ]
    }
   ],
   "source": [
    "import tensorflow as tf\n",
    "\n",
    "# TensorFlow 버전 확인\n",
    "print(tf.__version__)"
   ]
  },
  {
   "cell_type": "code",
   "execution_count": 2,
   "metadata": {},
   "outputs": [
    {
     "name": "stdout",
     "output_type": "stream",
     "text": [
      "b'Hello World!'\n"
     ]
    }
   ],
   "source": [
    "# hello_world.py\n",
    "\n",
    "h = tf.constant(\"Hello\")  # 상수\n",
    "w = tf.constant(\" World!\")\n",
    "hw = h + w\n",
    "\n",
    "with tf.Session() as sess:\n",
    "    prt = sess.run(hw)\n",
    "    \n",
    "print(prt)"
   ]
  },
  {
   "cell_type": "markdown",
   "metadata": {},
   "source": [
    "  "
   ]
  },
  {
   "cell_type": "markdown",
   "metadata": {},
   "source": [
    "다음은 `str`타입으로 `phw = ph + pw`와 `tf.constant`로 출력한 `hw`( h + w )를 비교해보자."
   ]
  },
  {
   "cell_type": "code",
   "execution_count": 5,
   "metadata": {},
   "outputs": [
    {
     "name": "stdout",
     "output_type": "stream",
     "text": [
      "str: Hello World!, type: <class 'str'>\n",
      "tensorflow: Tensor(\"add:0\", shape=(), dtype=string), type: <class 'tensorflow.python.framework.ops.Tensor'>\n"
     ]
    }
   ],
   "source": [
    "strh = \"Hello\"\n",
    "strw = \" World!\"\n",
    "strhw = strh + strw\n",
    "\n",
    "print('str: {}, type: {}'.format(strhw, type(strhw)))\n",
    "print('tensorflow: {}, type: {}'.format(hw, type(hw)))"
   ]
  },
  {
   "cell_type": "markdown",
   "metadata": {},
   "source": [
    "텐서플로의 연산 그래프와 관련된 중요한 개념은, \n",
    "\n",
    "1. 먼저 어떠한 연산을 할지 정의해둔 후\n",
    "2. 외부 메커니즘을 통해서 그 연산을 실행 시킨다."
   ]
  },
  {
   "cell_type": "markdown",
   "metadata": {},
   "source": [
    "위의 코드에서 `hw = h + w`에서 텐서플로 코드는 `h`와 `w`의 합인 `Hello World!`를 출력하는 것이 아닌 나중에 실행될 합 연산을 **연산 그래프(computation graph)** 추가된다\n",
    "\n",
    "`Session` 객체는 텐서플로 연산 메커니즘에 대한 인터페이스 역할이고, `prt = sess.run(hw)`에서 `hw = h + w`연산을 수행한다. 따라서, `print(prt)`를 하면 `Hello World!`를 출력함"
   ]
  },
  {
   "cell_type": "markdown",
   "metadata": {},
   "source": [
    "## 2.3 MNIST\n",
    "\n",
    "위에서 간단한 텐서플로 예제를 살펴 보았다. 이번에는 필기체 숫자로 이루어진 'MNIST 데이터베이스'를 이용해 필기체 숫자 분류를 해보자. MNIST는 미국 인구조사국의 직원들이 쓴 숫자와 고등학생들이 쓴 숫자로 만든 미국 국립표준기술연구소(NIST)의 데이터베이스를 다시 섞어 만든 필기체 숫자 이미지 데이터베이스이다. \n",
    "\n",
    "MNIST 데이터는 딥러닝 예제에서 빠지지 않고 등장하는 데이터라고 할 수 있다. \n",
    "\n",
    "![](./images/mnist.png)"
   ]
  },
  {
   "cell_type": "markdown",
   "metadata": {},
   "source": [
    "## 2.4 소프트맥스 회귀 - Softmax Regression\n",
    "\n",
    "이번에 구현할 MNIST 분류 예제에서는 **소프트맥스 회귀(Softmax Regression)** 으로 구현함\n",
    "\n",
    "$$\n",
    "h(x^{(i)}) = \\frac{e^{w_{y_j}^Tx^{(i)}}} {\\sum_{j = 1}^k e^{w_j^Tx^{(i)}}}\n",
    "$$"
   ]
  },
  {
   "cell_type": "code",
   "execution_count": 6,
   "metadata": {},
   "outputs": [
    {
     "name": "stdout",
     "output_type": "stream",
     "text": [
      "WARNING:tensorflow:From <ipython-input-6-d30c038bff0d>:11: read_data_sets (from tensorflow.contrib.learn.python.learn.datasets.mnist) is deprecated and will be removed in a future version.\n",
      "Instructions for updating:\n",
      "Please use alternatives such as official/mnist/dataset.py from tensorflow/models.\n",
      "WARNING:tensorflow:From C:\\Users\\donaldaq\\Anaconda3\\envs\\tensorflow\\lib\\site-packages\\tensorflow\\contrib\\learn\\python\\learn\\datasets\\mnist.py:260: maybe_download (from tensorflow.contrib.learn.python.learn.datasets.base) is deprecated and will be removed in a future version.\n",
      "Instructions for updating:\n",
      "Please write your own downloading logic.\n",
      "WARNING:tensorflow:From C:\\Users\\donaldaq\\Anaconda3\\envs\\tensorflow\\lib\\site-packages\\tensorflow\\contrib\\learn\\python\\learn\\datasets\\mnist.py:262: extract_images (from tensorflow.contrib.learn.python.learn.datasets.mnist) is deprecated and will be removed in a future version.\n",
      "Instructions for updating:\n",
      "Please use tf.data to implement this functionality.\n",
      "Extracting ../data\\train-images-idx3-ubyte.gz\n",
      "WARNING:tensorflow:From C:\\Users\\donaldaq\\Anaconda3\\envs\\tensorflow\\lib\\site-packages\\tensorflow\\contrib\\learn\\python\\learn\\datasets\\mnist.py:267: extract_labels (from tensorflow.contrib.learn.python.learn.datasets.mnist) is deprecated and will be removed in a future version.\n",
      "Instructions for updating:\n",
      "Please use tf.data to implement this functionality.\n",
      "Extracting ../data\\train-labels-idx1-ubyte.gz\n",
      "WARNING:tensorflow:From C:\\Users\\donaldaq\\Anaconda3\\envs\\tensorflow\\lib\\site-packages\\tensorflow\\contrib\\learn\\python\\learn\\datasets\\mnist.py:110: dense_to_one_hot (from tensorflow.contrib.learn.python.learn.datasets.mnist) is deprecated and will be removed in a future version.\n",
      "Instructions for updating:\n",
      "Please use tf.one_hot on tensors.\n",
      "Extracting ../data\\t10k-images-idx3-ubyte.gz\n",
      "Extracting ../data\\t10k-labels-idx1-ubyte.gz\n",
      "WARNING:tensorflow:From C:\\Users\\donaldaq\\Anaconda3\\envs\\tensorflow\\lib\\site-packages\\tensorflow\\contrib\\learn\\python\\learn\\datasets\\mnist.py:290: DataSet.__init__ (from tensorflow.contrib.learn.python.learn.datasets.mnist) is deprecated and will be removed in a future version.\n",
      "Instructions for updating:\n",
      "Please use alternatives such as official/mnist/dataset.py from tensorflow/models.\n"
     ]
    }
   ],
   "source": [
    "# import tensorflow as tf\n",
    "from tensorflow.examples.tutorials.mnist import input_data\n",
    "\n",
    "# 상수 및 하이퍼파라미터 설정\n",
    "DATA_DIR = '../data'\n",
    "NUM_STEPS = 1000\n",
    "MINIBATCH_SIZE = 100\n",
    "\n",
    "# MNIST 데이터 불러오기\n",
    "data = input_data.read_data_sets(DATA_DIR, one_hot=True)"
   ]
  },
  {
   "cell_type": "code",
   "execution_count": 8,
   "metadata": {
    "collapsed": true
   },
   "outputs": [],
   "source": [
    "#########\n",
    "# 회귀 모델 만들기 \n",
    "#########\n",
    "x = tf.placeholder(tf.float32, [None, 784]) # 28 * 28\n",
    "W = tf.Variable(tf.zeros([784, 10]))\n",
    "# b = tf.Variable(tf.random_uniform([10], -1., 1.)) //bias 제외 \n",
    "\n",
    "# y_pred = tf.add(tf.matmul(x ,W), b)\n",
    "y_pred = tf.matmul(x, W)\n",
    "y_true = tf.placeholder(tf.float32, [None, 10])\n",
    "\n",
    "# Cost(Loss) Function\n",
    "cross_entropy = tf.reduce_mean(\n",
    "                    tf.nn.softmax_cross_entropy_with_logits_v2(logits=y_pred, labels=y_true))\n",
    "\n",
    "# Gradient Step(Optimze) learning_rate는 하이퍼파라미터이므로 임의 설정할 수 있음\n",
    "gd_step = tf.train.GradientDescentOptimizer(learning_rate=0.1).minimize(cross_entropy)\n",
    "\n",
    "correct_mask = tf.equal(tf.argmax(y_pred, 1), tf.argmax(y_true, 1))\n",
    "accuracy = tf.reduce_mean(tf.cast(correct_mask, tf.float32))"
   ]
  },
  {
   "cell_type": "code",
   "execution_count": 9,
   "metadata": {
    "collapsed": true
   },
   "outputs": [],
   "source": [
    "#Blas GEMM launch failed 발생하여 추가함\n",
    "gpu_options = tf.GPUOptions(per_process_gpu_memory_fraction=0.333)\n",
    "\n",
    "sess = tf.Session(config=tf.ConfigProto(gpu_options=gpu_options))"
   ]
  },
  {
   "cell_type": "code",
   "execution_count": 10,
   "metadata": {},
   "outputs": [
    {
     "name": "stdout",
     "output_type": "stream",
     "text": [
      "100 | 0.5691837\n",
      "200 | 0.52266634\n",
      "300 | 0.4149245\n",
      "400 | 0.43970746\n",
      "500 | 0.3711055\n",
      "600 | 0.25304908\n",
      "700 | 0.2846405\n",
      "800 | 0.24398628\n",
      "900 | 0.26426652\n",
      "1000 | 0.27891606\n",
      "Accuracy: 90.76%\n"
     ]
    }
   ],
   "source": [
    "with tf.Session() as sess:\n",
    "    # 학습\n",
    "    sess.run(tf.global_variables_initializer())\n",
    "    \n",
    "    for step in range(NUM_STEPS):\n",
    "        batch_xs, batch_ys = data.train.next_batch(MINIBATCH_SIZE)\n",
    "        sess.run(gd_step, feed_dict={x: batch_xs, y_true: batch_ys})\n",
    "        \n",
    "        if(step + 1) % 100 == 0:\n",
    "            print(step+1, '|', sess.run(cross_entropy, feed_dict={x: batch_xs, y_true: batch_ys}))\n",
    "        \n",
    "    # 테스트\n",
    "    ans = sess.run(accuracy, feed_dict={x: data.test.images,\n",
    "                                       y_true: data.test.labels})\n",
    "    \n",
    "print(\"Accuracy: {:.2f}%\".format(ans*100))"
   ]
  },
  {
   "cell_type": "markdown",
   "metadata": {},
   "source": [
    " "
   ]
  },
  {
   "cell_type": "markdown",
   "metadata": {},
   "source": [
    "## 2.5 `tf.data.Dataset`을 이용한 MNIST 데이터 불러오기\n",
    "\n",
    "에러가 발생이 아래의 문구가 나올때(텐서플로 1.8버전)\n",
    "\n",
    "```\n",
    "read_data_sets (from tensorflow.contrib.learn.python.learn.datasets.mnist) is deprecated and will be removed in a future version.\n",
    "Instructions for updating:\n",
    "Please use alternatives such as official/mnist/dataset.py from tensorflow/models.\n",
    "```\n",
    "\n",
    "따라서, 이러한 경고문구가 나오지 않도록 `tf.keras.datasets.mnist.load_data()` 와 `tf.data.Dataset`을 이용하여 모델의 입력값에 맞게끔 데이터를 만들어 보도록 하자. 아래의 코드들은 tensorflow.org의 [Datasets Quick Start](https://www.tensorflow.org/get_started/datasets_quickstart)를 참고하여 작성했다. 자세한 내용은 해당링크를 참고하면 된다."
   ]
  },
  {
   "cell_type": "code",
   "execution_count": 11,
   "metadata": {
    "collapsed": true
   },
   "outputs": [],
   "source": [
    "def mnist_load():\n",
    "    (train_x, train_y), (test_x, test_y) = tf.keras.datasets.mnist.load_data()\n",
    "\n",
    "    # Train set\n",
    "    # Image\n",
    "    train_x = train_x.reshape([train_x.shape[0], -1])\n",
    "    train_x = train_x.astype('float32') / 255\n",
    "    # Label\n",
    "    train_y = tf.keras.utils.to_categorical(train_y, num_classes=10)\n",
    "\n",
    "    # Test set\n",
    "    # Image\n",
    "    test_x = test_x.reshape([test_x.shape[0], -1])\n",
    "    test_x = test_x.astype('float32') / 255\n",
    "    # Label\n",
    "    test_y = tf.keras.utils.to_categorical(test_y, num_classes=10)\n",
    "    \n",
    "    return (train_x, train_y), (test_x, test_y)"
   ]
  },
  {
   "cell_type": "code",
   "execution_count": 12,
   "metadata": {
    "collapsed": true
   },
   "outputs": [],
   "source": [
    "(train_x, train_y), (test_x, test_y) = mnist_load()\n",
    "\n",
    "buffer_size = train_x.shape[0] + test_x.shape[0]\n",
    "\n",
    "dataset = tf.data.Dataset.from_tensor_slices(({\"image\": train_x}, train_y))\n",
    "dataset = dataset.shuffle(buffer_size).repeat().batch(MINIBATCH_SIZE)\n",
    "iterator = dataset.make_one_shot_iterator()\n",
    "next_batch = iterator.get_next()"
   ]
  },
  {
   "cell_type": "code",
   "execution_count": 14,
   "metadata": {
    "collapsed": true
   },
   "outputs": [],
   "source": [
    "x = tf.placeholder(tf.float32, [None, 784])\n",
    "W = tf.Variable(tf.zeros([784, 10]))\n",
    "\n",
    "y_pred = tf.matmul(x ,W)\n",
    "y_true = tf.placeholder(tf.float32, [None, 10])\n",
    "\n",
    "# Cost(Loss) Function\n",
    "cross_entropy = tf.reduce_mean(\n",
    "                    tf.nn.softmax_cross_entropy_with_logits_v2(logits=y_pred, labels=y_true))\n",
    "\n",
    "# Gradient Step(Optimzer)\n",
    "gd_step = tf.train.GradientDescentOptimizer(learning_rate=0.1).minimize(cross_entropy)\n",
    "\n",
    "correct_mask = tf.equal(tf.argmax(y_pred, 1), tf.argmax(y_true, 1))\n",
    "accuracy = tf.reduce_mean(tf.cast(correct_mask, tf.float32))"
   ]
  },
  {
   "cell_type": "code",
   "execution_count": 17,
   "metadata": {},
   "outputs": [
    {
     "name": "stdout",
     "output_type": "stream",
     "text": [
      "100 | 0.5259843\n",
      "200 | 0.427052\n",
      "300 | 0.56716865\n",
      "400 | 0.5012867\n",
      "500 | 0.348852\n",
      "600 | 0.43042976\n",
      "700 | 0.388591\n",
      "800 | 0.3226711\n",
      "900 | 0.30149305\n",
      "1000 | 0.3112151\n",
      "Accuracy: 90.80%\n",
      "Wall time: 18 s\n"
     ]
    }
   ],
   "source": [
    "%%time\n",
    "with tf.Session() as sess:\n",
    "    # session에 넣어서 학습\n",
    "    sess.run(tf.global_variables_initializer())\n",
    "    \n",
    "    for step in range(NUM_STEPS):\n",
    "        batch_xs, batch_ys = sess.run(next_batch)\n",
    "        sess.run(gd_step, feed_dict={x: batch_xs['image'], y_true: batch_ys})\n",
    "        \n",
    "        if(step + 1) % 100 == 0:\n",
    "            print(step+1, '|', sess.run(cross_entropy, feed_dict={x: batch_xs['image'], y_true: batch_ys}))\n",
    "        \n",
    "    # 테스트\n",
    "    ans = sess.run(accuracy, feed_dict={x: test_x,\n",
    "                                       y_true: test_y})\n",
    "    \n",
    "print(\"Accuracy: {:.2f}%\".format(ans*100))"
   ]
  },
  {
   "cell_type": "code",
   "execution_count": null,
   "metadata": {
    "collapsed": true
   },
   "outputs": [],
   "source": []
  }
 ],
 "metadata": {
  "kernelspec": {
   "display_name": "Python 3",
   "language": "python",
   "name": "python3"
  },
  "language_info": {
   "codemirror_mode": {
    "name": "ipython",
    "version": 3
   },
   "file_extension": ".py",
   "mimetype": "text/x-python",
   "name": "python",
   "nbconvert_exporter": "python",
   "pygments_lexer": "ipython3",
   "version": "3.5.4"
  }
 },
 "nbformat": 4,
 "nbformat_minor": 2
}
